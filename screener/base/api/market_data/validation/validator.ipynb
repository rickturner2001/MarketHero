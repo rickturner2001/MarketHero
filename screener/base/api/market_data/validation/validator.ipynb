{
 "cells": [
  {
   "cell_type": "code",
   "execution_count": 4,
   "metadata": {},
   "outputs": [],
   "source": [
    "from base.api.market_data.classes.utilities import download_data\n",
    "from base.api.market_data.classes.dataframe import EnhancedDataframe\n",
    "from base.api.market_data.classes.strategies import TickerStrategy, Strategy\n",
    "import pandas as pd\n",
    "import numpy as np\n",
    "import yfinance as yf\n",
    "import matplotlib.pyplot as plt"
   ]
  },
  {
   "cell_type": "code",
   "execution_count": 36,
   "metadata": {},
   "outputs": [
    {
     "name": "stdout",
     "output_type": "stream",
     "text": [
      "[*********************100%***********************]  1 of 1 completed\n"
     ]
    }
   ],
   "source": [
    "from backtesting import Backtest\n",
    "from backtesting import Strategy\n",
    "\n",
    "\n",
    "AAPL = df = EnhancedDataframe.populate_dataframe(yf.download(\"AAPL\", period=\"2y\", interval=\"1d\"), \"AAPL\")\n",
    "AAPL['Strategy Alpha'] = np.vectorize(TickerStrategy.ma_bol_rsi_signal)(\n",
    "    AAPL['Close'], AAPL['MA50'], AAPL[\"BB_lower\"], AAPL['RSI'])\n",
    "\n",
    "AAPL['Strategy Beta'] = np.vectorize(TickerStrategy.r_ma20_ma50_signal)(\n",
    "    AAPL['RSI'], AAPL['MA20'], AAPL['MA50'])\n",
    "\n",
    "AAPL['Strategy Charlie'] = np.vectorize(\n",
    "    TickerStrategy.r_sd_m_signal)(AAPL['RSI'], AAPL['STOCH_D'], AAPL['MACD_histogram'])\n",
    "\n",
    "\n",
    "def entry_point(alpha, beta, charlie) -> bool:\n",
    "    return alpha or beta or charlie\n",
    "\n",
    "\n",
    "class StrategyTester(Strategy):\n",
    "\n",
    "    def init(self):\n",
    "        self.strat = self.I(\n",
    "            entry_point, self.data['Strategy Alpha'], self.data['Strategy Beta'], self.data['Strategy Charlie'])\n",
    "        print(list(filter(lambda x: x, self.strat)))\n",
    "        print(len(list(filter(lambda x: x, self.strat))))\n",
    "\n",
    "    \n",
    "    def next(self):\n",
    "        if self.strat:\n",
    "            if not self.position:\n",
    "                self.buy()\n",
    "            \n",
    "            \n"
   ]
  },
  {
   "cell_type": "code",
   "execution_count": 37,
   "metadata": {},
   "outputs": [
    {
     "name": "stdout",
     "output_type": "stream",
     "text": [
      "[True, True, True, True, True, True, True, True, True]\n",
      "9\n"
     ]
    }
   ],
   "source": [
    "\n",
    "\n",
    "from backtesting import Backtest\n",
    "\n",
    "bt = Backtest(AAPL, StrategyTester, cash=10_000, commission=.002)\n",
    "stats = bt.run()"
   ]
  },
  {
   "cell_type": "code",
   "execution_count": 38,
   "metadata": {},
   "outputs": [
    {
     "data": {
      "text/html": [
       "<div style=\"display: table;\"><div style=\"display: table-row;\"><div style=\"display: table-cell;\"><b title=\"bokeh.models.layouts.Row\">Row</b>(</div><div style=\"display: table-cell;\">id&nbsp;=&nbsp;'2680', <span id=\"3411\" style=\"cursor: pointer;\">&hellip;)</span></div></div><div class=\"3410\" style=\"display: none;\"><div style=\"display: table-cell;\"></div><div style=\"display: table-cell;\">align&nbsp;=&nbsp;'start',</div></div><div class=\"3410\" style=\"display: none;\"><div style=\"display: table-cell;\"></div><div style=\"display: table-cell;\">aspect_ratio&nbsp;=&nbsp;None,</div></div><div class=\"3410\" style=\"display: none;\"><div style=\"display: table-cell;\"></div><div style=\"display: table-cell;\">background&nbsp;=&nbsp;None,</div></div><div class=\"3410\" style=\"display: none;\"><div style=\"display: table-cell;\"></div><div style=\"display: table-cell;\">children&nbsp;=&nbsp;[GridBox(id='2677', ...), ToolbarBox(id='2679', ...)],</div></div><div class=\"3410\" style=\"display: none;\"><div style=\"display: table-cell;\"></div><div style=\"display: table-cell;\">cols&nbsp;=&nbsp;'auto',</div></div><div class=\"3410\" style=\"display: none;\"><div style=\"display: table-cell;\"></div><div style=\"display: table-cell;\">css_classes&nbsp;=&nbsp;[],</div></div><div class=\"3410\" style=\"display: none;\"><div style=\"display: table-cell;\"></div><div style=\"display: table-cell;\">disabled&nbsp;=&nbsp;False,</div></div><div class=\"3410\" style=\"display: none;\"><div style=\"display: table-cell;\"></div><div style=\"display: table-cell;\">height&nbsp;=&nbsp;None,</div></div><div class=\"3410\" style=\"display: none;\"><div style=\"display: table-cell;\"></div><div style=\"display: table-cell;\">height_policy&nbsp;=&nbsp;'auto',</div></div><div class=\"3410\" style=\"display: none;\"><div style=\"display: table-cell;\"></div><div style=\"display: table-cell;\">js_event_callbacks&nbsp;=&nbsp;{},</div></div><div class=\"3410\" style=\"display: none;\"><div style=\"display: table-cell;\"></div><div style=\"display: table-cell;\">js_property_callbacks&nbsp;=&nbsp;{},</div></div><div class=\"3410\" style=\"display: none;\"><div style=\"display: table-cell;\"></div><div style=\"display: table-cell;\">margin&nbsp;=&nbsp;(0, 0, 0, 0),</div></div><div class=\"3410\" style=\"display: none;\"><div style=\"display: table-cell;\"></div><div style=\"display: table-cell;\">max_height&nbsp;=&nbsp;None,</div></div><div class=\"3410\" style=\"display: none;\"><div style=\"display: table-cell;\"></div><div style=\"display: table-cell;\">max_width&nbsp;=&nbsp;None,</div></div><div class=\"3410\" style=\"display: none;\"><div style=\"display: table-cell;\"></div><div style=\"display: table-cell;\">min_height&nbsp;=&nbsp;None,</div></div><div class=\"3410\" style=\"display: none;\"><div style=\"display: table-cell;\"></div><div style=\"display: table-cell;\">min_width&nbsp;=&nbsp;None,</div></div><div class=\"3410\" style=\"display: none;\"><div style=\"display: table-cell;\"></div><div style=\"display: table-cell;\">name&nbsp;=&nbsp;None,</div></div><div class=\"3410\" style=\"display: none;\"><div style=\"display: table-cell;\"></div><div style=\"display: table-cell;\">sizing_mode&nbsp;=&nbsp;'stretch_width',</div></div><div class=\"3410\" style=\"display: none;\"><div style=\"display: table-cell;\"></div><div style=\"display: table-cell;\">spacing&nbsp;=&nbsp;0,</div></div><div class=\"3410\" style=\"display: none;\"><div style=\"display: table-cell;\"></div><div style=\"display: table-cell;\">subscribed_events&nbsp;=&nbsp;[],</div></div><div class=\"3410\" style=\"display: none;\"><div style=\"display: table-cell;\"></div><div style=\"display: table-cell;\">syncable&nbsp;=&nbsp;True,</div></div><div class=\"3410\" style=\"display: none;\"><div style=\"display: table-cell;\"></div><div style=\"display: table-cell;\">tags&nbsp;=&nbsp;[],</div></div><div class=\"3410\" style=\"display: none;\"><div style=\"display: table-cell;\"></div><div style=\"display: table-cell;\">visible&nbsp;=&nbsp;True,</div></div><div class=\"3410\" style=\"display: none;\"><div style=\"display: table-cell;\"></div><div style=\"display: table-cell;\">width&nbsp;=&nbsp;None,</div></div><div class=\"3410\" style=\"display: none;\"><div style=\"display: table-cell;\"></div><div style=\"display: table-cell;\">width_policy&nbsp;=&nbsp;'auto')</div></div></div>\n",
       "<script>\n",
       "(function() {\n",
       "  let expanded = false;\n",
       "  const ellipsis = document.getElementById(\"3411\");\n",
       "  ellipsis.addEventListener(\"click\", function() {\n",
       "    const rows = document.getElementsByClassName(\"3410\");\n",
       "    for (let i = 0; i < rows.length; i++) {\n",
       "      const el = rows[i];\n",
       "      el.style.display = expanded ? \"none\" : \"table-row\";\n",
       "    }\n",
       "    ellipsis.innerHTML = expanded ? \"&hellip;)\" : \"&lsaquo;&lsaquo;&lsaquo;\";\n",
       "    expanded = !expanded;\n",
       "  });\n",
       "})();\n",
       "</script>\n"
      ],
      "text/plain": [
       "Row(id='2680', ...)"
      ]
     },
     "execution_count": 38,
     "metadata": {},
     "output_type": "execute_result"
    }
   ],
   "source": [
    "bt.plot()"
   ]
  },
  {
   "cell_type": "code",
   "execution_count": 14,
   "metadata": {},
   "outputs": [
    {
     "data": {
      "text/plain": [
       "Start                     2020-12-09 00:00:00\n",
       "End                       2022-08-19 00:00:00\n",
       "Duration                    618 days 00:00:00\n",
       "Exposure Time [%]                   85.948478\n",
       "Equity Final [$]                145052.505722\n",
       "Equity Peak [$]                 152577.742142\n",
       "Return [%]                          45.052506\n",
       "Buy & Hold Return [%]                40.84415\n",
       "Return (Ann.) [%]                   24.545021\n",
       "Volatility (Ann.) [%]               32.745562\n",
       "Sharpe Ratio                         0.749568\n",
       "Sortino Ratio                        1.381706\n",
       "Calmar Ratio                         0.860251\n",
       "Max. Drawdown [%]                  -28.532404\n",
       "Avg. Drawdown [%]                   -4.238768\n",
       "Max. Drawdown Duration      228 days 00:00:00\n",
       "Avg. Drawdown Duration       27 days 00:00:00\n",
       "# Trades                                    1\n",
       "Win Rate [%]                            100.0\n",
       "Best Trade [%]                      45.076562\n",
       "Worst Trade [%]                     45.076562\n",
       "Avg. Trade [%]                      45.076562\n",
       "Max. Trade Duration         528 days 00:00:00\n",
       "Avg. Trade Duration         528 days 00:00:00\n",
       "Profit Factor                             NaN\n",
       "Expectancy [%]                      45.076562\n",
       "SQN                                       NaN\n",
       "_strategy                      StrategyTester\n",
       "_equity_curve                             ...\n",
       "_trades                      Size  EntryBa...\n",
       "dtype: object"
      ]
     },
     "execution_count": 14,
     "metadata": {},
     "output_type": "execute_result"
    }
   ],
   "source": [
    "stats"
   ]
  }
 ],
 "metadata": {
  "kernelspec": {
   "display_name": "Python 3.10.5 ('screener')",
   "language": "python",
   "name": "python3"
  },
  "language_info": {
   "codemirror_mode": {
    "name": "ipython",
    "version": 3
   },
   "file_extension": ".py",
   "mimetype": "text/x-python",
   "name": "python",
   "nbconvert_exporter": "python",
   "pygments_lexer": "ipython3",
   "version": "3.10.5"
  },
  "orig_nbformat": 4,
  "vscode": {
   "interpreter": {
    "hash": "aea03fe7d32d936cb3294605f10f74b2780f0f758aa776c287eb25eb12b766fb"
   }
  }
 },
 "nbformat": 4,
 "nbformat_minor": 2
}
