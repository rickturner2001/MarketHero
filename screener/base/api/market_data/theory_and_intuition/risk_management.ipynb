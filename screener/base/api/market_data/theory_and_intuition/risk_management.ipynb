{
 "cells": [
  {
   "cell_type": "markdown",
   "source": [],
   "metadata": {
    "collapsed": false,
    "pycharm": {
     "name": "#%% md\n"
    }
   }
  },
  {
   "cell_type": "markdown",
   "source": [
    "# Sharpe ratio\n",
    "\n",
    "## What is the sharpe ratio?\n",
    "\n",
    "Sharpe ratio is simply the ratio between the difference of asset return and risk-free return over the standard deviation of asset returns\n",
    "<br>\n",
    "<br>\n",
    "\n",
    "$$SR=\\frac{E[R_a-R_f]}{\\sigma_a}$$\n",
    "\n",
    "Therefore, if our risk-free rate is ~0, we can say that\n",
    "\n",
    "$$SR \\approx \\frac{Mean Asset Return}{Std. Dev. of Asset Returns}$$\n",
    "\n",
    "\n",
    "\n",
    "<br>\n",
    "<br>\n",
    "<br>\n",
    "<br>\n",
    "\n",
    "### By using the Sharpe Ratio we imply that\n",
    "- Volatility ought to be punished in our portfolio\n",
    "- Returns are normally distributed\n",
    "\n",
    "<br>\n",
    "\n",
    "### What is a good value for the Sharpe Ratio?\n",
    "Usually a Sharpe ratio **greater than 1** is considered good. We will be using the following classification:\n",
    "1. Sharpe Ratio 0-1 Sub-optimal\n",
    "2. Sharpe Ratio 1-2 Generally good\n",
    "3. Sharpe Ratio 2-3 Very good\n",
    "4. Sharpe Ratio 3+ Excellent"
   ],
   "metadata": {
    "collapsed": false,
    "pycharm": {
     "name": "#%% md\n"
    }
   }
  },
  {
   "cell_type": "markdown",
   "source": [
    "# Sortino Ratio\n",
    "\n",
    "The Sharpe Ratio punishes high volatility, but do we really want to punish the ratio just because of high volatility?\n",
    "What if a stock is high in volatility in the upwards direction?\n",
    "\n",
    "<br>\n",
    "\n",
    "> Risk is not synonymous with uncertainty\n",
    "\n",
    "<br>\n",
    "\n",
    "We as investors should be really concerned with downside risk. We can account for downside risk by setting a **threshold** for our volatility\n",
    "\n",
    "<br>\n",
    "<br>\n",
    "\n",
    "$$SR=\\frac{R_p - r_f}{\\sigma_d}$$\n",
    "\n",
    "$$Sortino Ratio=\\frac{Mean Asset Return - Risk Free Return}{Std. Dev. of Downside Returns}$$\n",
    "\n",
    "**Where**\n",
    "\n",
    "$R_p$= Expected portfolio return\n",
    "$r_f$ = Risk-free rate\n",
    "$\\sigma_d$ = Standard Deviation of the Downside\n",
    "\n"
   ],
   "metadata": {
    "collapsed": false,
    "pycharm": {
     "name": "#%% md\n"
    }
   }
  },
  {
   "cell_type": "markdown",
   "source": [
    "# Probabilistic Sharpe Ratio\n",
    "\n",
    "PSR or probabilistic Sharpe Ratio, is a model that takes into account other aspects of distribution of returns, such as Kurtosis and Skew.\n",
    "<br>\n",
    "<br>\n",
    "\n",
    "## Kurtosis\n",
    "Measure of the \"tailedness\" of the probability of distribution of a real-valued random variable. This describes how \"pointy\" the distribution is or how \"fat\" the tails are.\n",
    "\n",
    "<br>\n",
    "<br>\n",
    "\n",
    "## Skew\n",
    "Skewness is a measure of asymmetry of the probability distribution of a real-valued random variable\n",
    "\n",
    "- Normal distribution => Mean, Median and Mode all overlap directly in the center\n",
    "- Negative-skewed distribution => Mean that is to the left of the mode\n",
    "- Positive-skewed distribution => Mean that is to the right of the mode\n",
    "\n",
    "<br>\n",
    "<br>\n",
    "\n",
    "## What happens when we take into account Skewness and Kurtosis?\n",
    "\n",
    "The PSR takes into account the skew and kurtosis of returns to return a Sharpe Ratio in terms of probability.\n",
    "\n",
    "<br>\n",
    "\n",
    "> Although skewness and kurtosis do not affect the point estimate of Sharpe Ratio, it greatly impacts its confidence bands, and consequently its statistical significance.\n",
    "\n",
    "<br>\n",
    "\n",
    "In simpler terms, taking into account kurtosis and skewness allows us to express the Sharpe Ratio in probability terms, for instance, 60% change of SR of 2.3\n",
    "\n",
    "<br>\n",
    "<br>\n",
    "\n",
    "$$PSR(SR^*) = Prob[SR\\le \\widehat{SR}]$$\n",
    "\n",
    "**Where**\n",
    "\n",
    "$SR^*$ = Predefined Benchmark Sharpe Ratio\n",
    "$\\widehat{SR}$ = Estimated Sharpe Ratio\n",
    "\n",
    "<br>\n",
    "\n",
    "The original paper states that we can let $SR^*$ be 0, depending on what we are using the PSR for (comparison or general calculation).\n",
    "\n",
    "<br>\n",
    "\n",
    "- We can rewrite this in terms of a Cumulative Distribution Function\n",
    "- z is the Cumulative Distribution Function of the standard normal distribution\n",
    "\n",
    "$$\\widehat{PSR}(SR^*) = Z \\left[ \\frac{(\\widehat{SR} - SR^*}{\\hat{\\sigma}(\\widehat{SR})} \\right]$$\n",
    "\n",
    "\n",
    "Where the specialized sigma function of the Sharpe Ratio is defined as follows\n",
    "\n",
    "$$\\sigma(\\widehat{SR}) = \\sqrt{\\frac{1}{n - 1}(1+\\frac{1}{2}\\widehat{SR^2} - \\gamma_3 \\widehat{SR} + \\frac {\\gamma_4}{4}\\widehat{SR^2})}$$\n",
    "\n",
    "**where**\n",
    "$n$ = length of number of entries\n",
    "\n",
    "When we end up plugging in the mean, standard deviation, kurtosis and skew, we will get something like this\n",
    "\n",
    "$$\\widehat{PSR}(SR^*) = Z \\left[ \\frac{(\\widehat{SR} - SR^*)\\sqrt{n-1}}{\\sqrt{1 + \\frac{1}{2}\\widehat{SR^2} - \\gamma_3 \\widehat{SR}+\\frac{\\gamma_4 - 3}{4}\\widehat{SR^2}}}  \\right]$$\n",
    "\n",
    "**Where**\n",
    "$\\gamma_3$ = Kurtosis\n",
    "$\\gamma_4$ = Skewness"
   ],
   "metadata": {
    "collapsed": false,
    "pycharm": {
     "name": "#%% md\n"
    }
   }
  }
 ],
 "metadata": {
  "kernelspec": {
   "display_name": "Python 3",
   "language": "python",
   "name": "python3"
  },
  "language_info": {
   "codemirror_mode": {
    "name": "ipython",
    "version": 2
   },
   "file_extension": ".py",
   "mimetype": "text/x-python",
   "name": "python",
   "nbconvert_exporter": "python",
   "pygments_lexer": "ipython2",
   "version": "2.7.6"
  }
 },
 "nbformat": 4,
 "nbformat_minor": 0
}